{
 "cells": [
  {
   "cell_type": "code",
   "execution_count": 8,
   "id": "a4091ff3",
   "metadata": {},
   "outputs": [],
   "source": [
    "import cv2 as cv\n",
    "import numpy as np"
   ]
  },
  {
   "cell_type": "code",
   "execution_count": 9,
   "id": "34a5f85e",
   "metadata": {},
   "outputs": [],
   "source": [
    "def empty_callback(value):\n",
    "    pass"
   ]
  },
  {
   "cell_type": "code",
   "execution_count": 10,
   "id": "8648e8ce",
   "metadata": {},
   "outputs": [],
   "source": [
    "cap = cv.VideoCapture(0)\n",
    "if not cap.isOpened():\n",
    "    print(\"Cannot open camera\")\n",
    "    exit()"
   ]
  },
  {
   "cell_type": "code",
   "execution_count": 11,
   "id": "7b3b6c3d",
   "metadata": {},
   "outputs": [],
   "source": [
    "capture1 = False\n",
    "capture2 = False"
   ]
  },
  {
   "cell_type": "code",
   "execution_count": 12,
   "id": "08b2a6ee",
   "metadata": {},
   "outputs": [],
   "source": [
    "img = np.zeros((512, 512, 1), dtype=np.uint8)\n",
    "background = np.zeros((512, 512, 1), dtype=np.uint8)\n",
    "foreground = np.zeros((512, 512, 1), dtype=np.uint8)\n",
    "diff = np.zeros((512, 512, 1), dtype=np.uint8)\n",
    "cv.namedWindow('Background Image')\n",
    "cv.namedWindow('Current Image')\n",
    "cv.namedWindow('Foreground Image')\n",
    "cv.createTrackbar('x', 'Foreground Image', 0, 255, empty_callback)"
   ]
  },
  {
   "cell_type": "code",
   "execution_count": null,
   "id": "093ee25d",
   "metadata": {},
   "outputs": [],
   "source": [
    "#Task Absdiff type a to save background, type x to save current image. \n",
    "#Each time you type x you see difference between current and last frame.\n",
    "while True:\n",
    "    # Capture frame-by-frame\n",
    "    ret, frame = cap.read()\n",
    "    # if frame is read correctly ret is True\n",
    "    if not ret:\n",
    "        print(\"Can't receive frame (stream end?). Exiting ...\")\n",
    "        break\n",
    "    # Our operations on the frame come here\n",
    "    img = cv.cvtColor(frame, cv.COLOR_BGR2GRAY)\n",
    "    img = cv.resize(img, dsize=(512, 512))\n",
    "    # Display the resulting frame\n",
    "    cv.imshow('Background Image', background)\n",
    "    cv.imshow('Current Image', img)\n",
    "    cv.imshow('Foreground Image', foreground)\n",
    "    key_code = cv.waitKey(10)\n",
    "    if key_code == 27:\n",
    "        # escape key pressed\n",
    "        break\n",
    "    if key_code == ord('x'):\n",
    "        print('Save current image')\n",
    "        current = cv.cvtColor(frame, cv.COLOR_BGR2GRAY)\n",
    "        current = cv.resize(current, dsize=(512, 512))\n",
    "        capture1 = True\n",
    "    if key_code == ord('a'):\n",
    "        print('Save background')\n",
    "        background = cv.cvtColor(frame, cv.COLOR_BGR2GRAY)\n",
    "        background = cv.resize(background, dsize=(512, 512))\n",
    "        capture2 = True\n",
    "    if key_code == ord('r'):\n",
    "        print('Reset')\n",
    "        background = np.zeros((512, 512, 1), dtype=np.uint8)\n",
    "        foreground = np.zeros((512, 512, 1), dtype=np.uint8)\n",
    "        capture1 = False\n",
    "        capture2 = False\n",
    "    if capture1 and capture2:\n",
    "        diff = cv.absdiff(current, background)\n",
    "        capture1 = False\n",
    "    # get current positions of four trackbars\n",
    "    th = cv.getTrackbarPos('x', 'Foreground Image')\n",
    "    ret,foreground = cv.threshold(diff,int(th),255,cv.THRESH_BINARY)"
   ]
  },
  {
   "cell_type": "code",
   "execution_count": null,
   "id": "08575684",
   "metadata": {},
   "outputs": [],
   "source": [
    "#Task Absdiff type a to save background, then is running in continous mode\n",
    "while True:\n",
    "    # Capture frame-by-frame\n",
    "    ret, frame = cap.read()\n",
    "    # if frame is read correctly ret is True\n",
    "    if not ret:\n",
    "        print(\"Can't receive frame (stream end?). Exiting ...\")\n",
    "        break\n",
    "    # Our operations on the frame come here\n",
    "    img = cv.cvtColor(frame, cv.COLOR_BGR2GRAY)\n",
    "    img = cv.resize(img, dsize=(512, 512))\n",
    "    # Display the resulting frame\n",
    "    cv.imshow('Background Image', diff)\n",
    "    cv.imshow('Current Image', img)\n",
    "    cv.imshow('Foreground Image', foreground)\n",
    "    key_code = cv.waitKey(10)\n",
    "    if key_code == 27:\n",
    "        # escape key pressed\n",
    "        break\n",
    "    if not capture1:\n",
    "        print('Save background')\n",
    "        background = cv.cvtColor(frame, cv.COLOR_BGR2GRAY)\n",
    "        background = cv.resize(background, dsize=(512, 512))\n",
    "        capture1 = True\n",
    "    if key_code == ord('r'):\n",
    "        print('Reset')\n",
    "        background = np.zeros((512, 512, 1), dtype=np.uint8)\n",
    "        foreground = np.zeros((512, 512, 1), dtype=np.uint8)\n",
    "        capture1 = False\n",
    "    if capture1:\n",
    "        current = cv.cvtColor(frame, cv.COLOR_BGR2GRAY)\n",
    "        current = cv.resize(current, dsize=(512, 512))\n",
    "        diff = cv.absdiff(current, background)\n",
    "    # get current positions of four trackbars\n",
    "    th = cv.getTrackbarPos('x', 'Foreground Image')\n",
    "    ret,foreground = cv.threshold(diff,int(th),255,cv.THRESH_BINARY)"
   ]
  },
  {
   "cell_type": "code",
   "execution_count": null,
   "id": "6ffe4b41",
   "metadata": {},
   "outputs": [],
   "source": []
  },
  {
   "cell_type": "code",
   "execution_count": null,
   "id": "44d2cbfd",
   "metadata": {},
   "outputs": [],
   "source": [
    "def median_model(img, background):\n",
    "    new_back = background.copy()\n",
    "    new_back[background<img] += 1\n",
    "    new_back[background>img] -= 1\n",
    "    new_back[new_back>255] = 255\n",
    "    new_back[new_back<0] = 0\n",
    "    return new_back"
   ]
  },
  {
   "cell_type": "code",
   "execution_count": null,
   "id": "76bbfa89",
   "metadata": {},
   "outputs": [],
   "source": [
    "# Approximate median approach in continous mode\n",
    "while True:\n",
    "    # Capture frame-by-frame\n",
    "    ret, frame = cap.read()\n",
    "    # if frame is read correctly ret is True\n",
    "    if not ret:\n",
    "        print(\"Can't receive frame (stream end?). Exiting ...\")\n",
    "        break\n",
    "    # Our operations on the frame come here\n",
    "    img = cv.cvtColor(frame, cv.COLOR_BGR2GRAY)\n",
    "    img = cv.resize(img, dsize=(512, 512))\n",
    "    # Display the resulting frame\n",
    "    cv.imshow('Background Image', background)\n",
    "    cv.imshow('Current Image', img)\n",
    "    cv.imshow('Foreground Image', foreground)\n",
    "    key_code = cv.waitKey(10)\n",
    "    if key_code == 27:\n",
    "        # escape key pressed\n",
    "        break\n",
    "    if not capture1:\n",
    "        print('Capture background and current frame')\n",
    "        background = cv.cvtColor(frame, cv.COLOR_BGR2GRAY)\n",
    "        background = cv.resize(background, dsize=(512, 512))\n",
    "        current = cv.resize(background, dsize=(512, 512))\n",
    "        background = median_model(current, background)\n",
    "        capture1 = True\n",
    "    if key_code == ord('r'):\n",
    "        print('Reset')\n",
    "        background = np.zeros((512, 512, 1), dtype=np.uint8)\n",
    "        foreground = np.zeros((512, 512, 1), dtype=np.uint8)\n",
    "        capture1 = False\n",
    "    if capture1:\n",
    "        current = cv.cvtColor(frame, cv.COLOR_BGR2GRAY)\n",
    "        current = cv.resize(current, dsize=(512, 512))\n",
    "        background = median_model(current, background)\n",
    "        diff = cv.absdiff(current, background)\n",
    "    # get current positions of four trackbars\n",
    "    th = cv.getTrackbarPos('x', 'Foreground Image')\n",
    "    ret,foreground = cv.threshold(diff,int(th),255,cv.THRESH_BINARY)"
   ]
  },
  {
   "cell_type": "code",
   "execution_count": null,
   "id": "6f1f365b",
   "metadata": {},
   "outputs": [],
   "source": [
    "cv.destroyAllWindows()"
   ]
  },
  {
   "cell_type": "code",
   "execution_count": 13,
   "id": "f8b50938",
   "metadata": {},
   "outputs": [],
   "source": [
    "arg = 'MOG2'\n",
    "if arg == 'MOG2':\n",
    "    backSub = cv.createBackgroundSubtractorMOG2()\n",
    "else:\n",
    "    backSub = cv.createBackgroundSubtractorKNN()"
   ]
  },
  {
   "cell_type": "code",
   "execution_count": null,
   "id": "e089d91c",
   "metadata": {},
   "outputs": [],
   "source": [
    "while True:\n",
    "    # Capture frame-by-frame\n",
    "    ret, frame = cap.read()\n",
    "    # if frame is read correctly ret is True\n",
    "    if not ret:\n",
    "        print(\"Can't receive frame (stream end?). Exiting ...\")\n",
    "        break\n",
    "    # Our operations on the frame come here\n",
    "    img = cv.cvtColor(frame, cv.COLOR_BGR2GRAY)\n",
    "    img = cv.resize(img, dsize=(512, 512))\n",
    "    # Display the resulting frame\n",
    "    fgMask = backSub.apply(frame)\n",
    "    cv.imshow('Foreground Image', fgMask)\n",
    "    cv.imshow('Background Image', background)\n",
    "    cv.imshow('Current Image', img)\n",
    "    key_code = cv.waitKey(10)\n",
    "    if key_code == 27:\n",
    "        # escape key pressed\n",
    "        break\n",
    "#     th = cv.getTrackbarPos('x', 'Foreground Image')\n",
    "#     ret, foreground = cv.threshold(diff,int(th),255,cv.THRESH_BINARY)"
   ]
  }
 ],
 "metadata": {
  "kernelspec": {
   "display_name": "Python 3 (ipykernel)",
   "language": "python",
   "name": "python3"
  },
  "language_info": {
   "codemirror_mode": {
    "name": "ipython",
    "version": 3
   },
   "file_extension": ".py",
   "mimetype": "text/x-python",
   "name": "python",
   "nbconvert_exporter": "python",
   "pygments_lexer": "ipython3",
   "version": "3.9.10"
  }
 },
 "nbformat": 4,
 "nbformat_minor": 5
}
